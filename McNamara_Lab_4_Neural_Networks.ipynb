{
  "nbformat": 4,
  "nbformat_minor": 0,
  "metadata": {
    "colab": {
      "name": "McNamara Lab #4: Neural Networks.ipynb",
      "provenance": [],
      "collapsed_sections": [],
      "include_colab_link": true
    },
    "kernelspec": {
      "name": "python3",
      "display_name": "Python 3"
    },
    "accelerator": "GPU"
  },
  "cells": [
    {
      "cell_type": "markdown",
      "metadata": {
        "id": "view-in-github",
        "colab_type": "text"
      },
      "source": [
        "<a href=\"https://colab.research.google.com/github/LiamAMcNamara/NNs-Lab4/blob/master/McNamara_Lab_4_Neural_Networks.ipynb\" target=\"_parent\"><img src=\"https://colab.research.google.com/assets/colab-badge.svg\" alt=\"Open In Colab\"/></a>"
      ]
    },
    {
      "cell_type": "markdown",
      "metadata": {
        "id": "5uQ78FQhx29R",
        "colab_type": "text"
      },
      "source": [
        "# **CSE 5522 Lab #4: Neural Networks**\n",
        "\n",
        "The goals of this lab are to familarize you with:\n",
        "\n",
        "* Perceptron Learning Rule\n",
        "* Neural Network toolkits (PyTorch, specifically)\n",
        "* Supervised learning with data related to speech\n",
        "\n",
        "**Initial notes**\n",
        "\n",
        "* (If you are using Google Colab) Make a copy of this page in your google drive so that you can edit it.\n",
        "\n",
        "* While not completely necessary for this assignment, you may want to familiarize yourself with the following packages: [numpy](https://numpy.org), [scikit-learn](https://scikit-learn.org), [pandas](https://pandas.pydata.org), [matplotlib](https://matplotlib.org).\n",
        " * Especially numpy, many of the calculations in this (and later) lab can be done in one line using numpy. Whereas raw python may require 5-10x that.\n",
        "\n",
        "* Feel free to (please do!) change the structure of the document below. Especially, add code sections to break your code into logical pieces and add text sections to explain your code or results\n",
        "\n",
        "---\n",
        "---\n"
      ]
    },
    {
      "cell_type": "markdown",
      "metadata": {
        "id": "DAah7VT7r9am",
        "colab_type": "text"
      },
      "source": [
        "\n",
        "# **Part 1: Perceptron Learning Rule (20 pts)**\n",
        "\n",
        "The perceptron learning rule is a simple method for training a linear classifier.\n",
        "\n",
        "The basic idea is: when you classify something incorrectly, move the linear classifier a bit in a way that updates the boundary line.  This is related to the gradient descent algorithm used for linear regression.\n",
        "\n",
        "In the first part of the exercise, you'll code the Perceptron Learning Rule (PLR) algorithm. Then you will learn the \"and\" function to show the basic operation of the PLR, and in the second you'll try to classify some vowels."
      ]
    },
    {
      "cell_type": "code",
      "metadata": {
        "id": "BnYO6oisBzPQ",
        "colab_type": "code",
        "colab": {
          "base_uri": "https://localhost:8080/",
          "height": 265
        },
        "outputId": "3cbfd4ac-74c6-468b-f229-3a95adaf1c0a"
      },
      "source": [
        "# set up some preliminaries\n",
        "\n",
        "import numpy as np\n",
        "import matplotlib.pyplot as plt\n",
        "\n",
        "# set classification data for \"and\"\n",
        "data=np.array([[0,0],[0,1],[1,0],[1,1]])\n",
        "targets=np.array([0,0,0,1])\n",
        "bias=-1.0\n",
        "\n",
        "# set some initial weights : w1, w2, bias\n",
        "weights_init=np.array([-1,1,0.5])\n",
        "\n",
        "# here is a function for plotting both the dataset and the current decision\n",
        "# boundary, with errors in red\n",
        "def plotgraph(data,targets,weights):\n",
        "  classification=(np.sign(np.dot(np.hstack((data,np.ones((data.shape[0],1))*bias)),weights))+1)/2\n",
        "\n",
        "  plt.plot(data[np.logical_and(targets==1,classification==1),0],\n",
        "           data[np.logical_and(targets==1,classification==1),1],'bo')\n",
        "  plt.plot(data[np.logical_and(targets==1,classification==0),0],\n",
        "           data[np.logical_and(targets==1,classification==0),1],'ro')\n",
        "  plt.plot(data[np.logical_and(targets==0,classification==1),0],\n",
        "           data[np.logical_and(targets==0,classification==1),1],'rx')\n",
        "  plt.plot(data[np.logical_and(targets==0,classification==0),0],\n",
        "           data[np.logical_and(targets==0,classification==0),1],'bx')\n",
        "\n",
        "  # note weights are in form w_1*x + w_2*y + w_b = 0\n",
        "  # so to plot line we need y= -(w_1*x + w_b)/(w_2)\n",
        "  dmin=np.min(data[:,0])\n",
        "  dmax=np.max(data[:,0])\n",
        "  plt.plot(np.array([dmin,dmax]),\n",
        "           np.array([-(dmin*weights[0]+weights[2]*bias)/(weights[1]),\n",
        "                     -(dmax*weights[0]+weights[2]*bias)/(weights[1])]),\n",
        "           'b--'\n",
        "           )\n",
        "\n",
        "\n",
        "#Plot the current situation.  Red items are misclassified, blue\n",
        "#correctly classified. x=0, circle=1.\n",
        "plotgraph(data,targets,weights_init)\n"
      ],
      "execution_count": 346,
      "outputs": [
        {
          "output_type": "display_data",
          "data": {
            "image/png": "[encoded data removed]",
            "text/plain": [
              "<Figure size 432x288 with 1 Axes>"
            ]
          },
          "metadata": {
            "tags": [],
            "needs_background": "light"
          }
        }
      ]
    },
    {
      "cell_type": "markdown",
      "metadata": {
        "id": "hpBjACAdzlG0",
        "colab_type": "text"
      },
      "source": [
        "**1.1** This is where you will need to code the perceptron learning algorithm.\n",
        "\n",
        "You should assume that the nonlinear function is a step function that outputs 1 if the input is greater than 0, and 0 otherwise.\n",
        "\n",
        "Remember that there should be a bias (i.e., there should be one more weight than there are inputs).  You can choose to define the fixed bias as -1 (as traditionally done) or 1.  Note if you change the bias you may need to pay attention to the plotting function above.\n",
        "\n",
        "The function should return the updated weight vector.\n",
        "\n",
        "(Hint: You may wish to define a separate function which calculates the output of the perceptron given some set of weights.)"
      ]
    },
    {
      "cell_type": "code",
      "metadata": {
        "id": "UZEDDtyaAE-B",
        "colab_type": "code",
        "colab": {}
      },
      "source": [
        "def plr(weights,example,target,learningrate):\n",
        "  # compute weight update\n",
        "  # return updated weights\n",
        "  # print(f'weights:{weights}')\n",
        "  # print(f'example:{example}')\n",
        "  # print(f'target:{target}')\n",
        "\n",
        "\n",
        "  upd_weights = np.zeros_like(weights)\n",
        "  o = output(weights, example)\n",
        "  # print(f'o:{o}')\n",
        "  err = target-o\n",
        "  upd_weights[:2] = weights[:2] + learningrate*err*example\n",
        "  upd_weights[2] = weights[2] + learningrate*err*bias\n",
        "\n",
        "  return upd_weights\n"
      ],
      "execution_count": 464,
      "outputs": []
    },
    {
      "cell_type": "code",
      "metadata": {
        "id": "7XIzBra9b8-g",
        "colab_type": "code",
        "colab": {}
      },
      "source": [
        "def output(w, x):\n",
        "  output = np.dot(w[:2], x) + bias*w[2] #0.0001\n",
        "  return np.where(output > 0.0, 1, 0)"
      ],
      "execution_count": 306,
      "outputs": []
    },
    {
      "cell_type": "markdown",
      "metadata": {
        "id": "CKLlwQtH1dO9",
        "colab_type": "text"
      },
      "source": [
        "**1.2** The following function will randomize your training examples, and run \n",
        "\n",
        "the PLR for each example."
      ]
    },
    {
      "cell_type": "code",
      "metadata": {
        "id": "K9u9zBAZ1TzX",
        "colab_type": "code",
        "colab": {}
      },
      "source": [
        "def run_epoch(weights,data,targets,learningrate):\n",
        "  nexamples=data.shape[0]\n",
        "  order=np.random.permutation(nexamples)\n",
        "  for i in range(nexamples):\n",
        "    weights=plr(weights,data[order[i]],targets[order[i]],learningrate)\n",
        "  return weights"
      ],
      "execution_count": 389,
      "outputs": []
    },
    {
      "cell_type": "markdown",
      "metadata": {
        "id": "27HN_7pb2BBi",
        "colab_type": "text"
      },
      "source": [
        "**1.3** Now write a bit of code to run through epochs until convergence.\n",
        "\n",
        "(Hint: One simple way to detect convergence is to look at the change in weights between epochs and check to see if their (absolute) sum is less than some threshold.)"
      ]
    },
    {
      "cell_type": "code",
      "metadata": {
        "id": "jnkEdM3nBEWE",
        "colab_type": "code",
        "colab": {
          "base_uri": "https://localhost:8080/",
          "height": 69
        },
        "outputId": "8f4049c8-235d-4102-998e-0f0a264c7d4b"
      },
      "source": [
        "# write code to run through convergence\n",
        "# put final weights into \"finalweights\"\n",
        "def fitToConvergence(weights, data, targets, learningrate):\n",
        "  finalweights = np.zeros_like(weights)\n",
        "  w2 = weights\n",
        "  for i in range(100):\n",
        "    w1 = run_epoch(w2, data, targets, learningrate)\n",
        "    #print(f'w1:{w1}')\n",
        "    w2 = run_epoch(w1, data, targets, learningrate)\n",
        "    #print(f'w2:{w2}')\n",
        "    finalweights = w2\n",
        "\n",
        "    #detect convergence\n",
        "    #print(f'difference: {np.sum(abs(w1-w2))}')\n",
        "    if np.sum(abs(w1-w2)) < 0.0001:\n",
        "      break\n",
        "    # if np.array_equal(w1, w2):\n",
        "    #   break\n",
        "  # print(f'finalweights: {finalweights}')\n",
        "  print(f'iterations:{i}')  \n",
        "  return finalweights\n",
        "\n",
        "learningrate = 0.1\n",
        "fw = fitToConvergence(weights_init, data, targets,learningrate)\n",
        "print(f'firstdata[0]: {data[0]}')\n",
        "print(f'accuracy: {accuracy_calc(fw, data, targets)}')"
      ],
      "execution_count": 574,
      "outputs": [
        {
          "output_type": "stream",
          "text": [
            "iterations:7\n",
            "firstdata[0]: [0 0]\n",
            "accuracy: 1.0\n"
          ],
          "name": "stdout"
        }
      ]
    },
    {
      "cell_type": "markdown",
      "metadata": {
        "id": "Wfya2cJn2I4u",
        "colab_type": "text"
      },
      "source": [
        "**1.4** Plot the final weights to show the boundary that you have learned."
      ]
    },
    {
      "cell_type": "code",
      "metadata": {
        "id": "8fvq7bmI2HQj",
        "colab_type": "code",
        "colab": {
          "base_uri": "https://localhost:8080/",
          "height": 269
        },
        "outputId": "95aa88cb-82a5-4eef-b892-220ce5ce1cd1"
      },
      "source": [
        "plotgraph(data,targets,fw)"
      ],
      "execution_count": 575,
      "outputs": [
        {
          "output_type": "display_data",
          "data": {
            "image/png": "[encoded data removed]",
            "text/plain": [
              "<Figure size 432x288 with 1 Axes>"
            ]
          },
          "metadata": {
            "tags": [],
            "needs_background": "light"
          }
        }
      ]
    },
    {
      "cell_type": "markdown",
      "metadata": {
        "id": "mUrKN_-H2b4w",
        "colab_type": "text"
      },
      "source": [
        "**1.5** <u>Optional</u> extensions:\n",
        "\n",
        "**1.5.1** Rerun your code for the \"or\" function.\n",
        "\n",
        "**1.5.2** Modify your code to allow for the majority class function for three inputs (i.e. 1 if 2 or more inputs are on).\n",
        "\n",
        "**1.5.3** Investigate what happens if you run the \"xor\" function through the training.\n",
        "\n",
        "(Note: These are optional components offered if you wish to continue to explore this subject. No bonus points will be given for their completion.)\n"
      ]
    },
    {
      "cell_type": "markdown",
      "metadata": {
        "id": "2d0V3Z7q22Rm",
        "colab_type": "text"
      },
      "source": [
        "---\n",
        "---\n",
        "\n",
        "# **Part 2: Vowel Classification (20 pts)**\n",
        "\n",
        "In this section, you will look at some actual (noisy) vowel formant data.\n",
        "\n",
        "Formants, as we use them here, are the local maxima, or broad peaks, in a sound's spectrogram. They are related to the harmonic structure of sounds and so we expect them to be highly related to speech. So we will attempt to use formant pairs (the two highest/most powerful, peaks) to predict vowels.\n",
        "\n",
        "Go to the International Phonetic Alphabet (IPA) vowel chart at https://en.wikipedia.org/wiki/IPA_vowel_chart_with_audio and play the sounds.  The chart is written in IPA, but here are the two letter (ARPABET) symbols for some of the vowels of English: iy, ih, ey, eh, ah, ao, ow, uw, ax.\n",
        "\n",
        "Vowels are produced by shaping the vocal tract so some of their features are:\n",
        "\n",
        "|Vowel|Tongue Height|Tongue Depth|Lip Shape|\n",
        "|---|---|---|---|\n",
        "|iy|close|front|unrounded|\n",
        "|ih|near-close|front|unrounded|\n",
        "|ey|close-mid|front|unrounded|\n",
        "|eh|open-mid|front|unrounded|\n",
        "|ah|open|back|rounded|\n",
        "|ao|open-mid|back|rounded|\n",
        "|ow|close-mid|back|rounded|\n",
        "|uw|close|back|rounded|\n",
        "|ax|mid|central|unrounded|\n",
        "\n",
        "I've prepared a csv datafile with the following features:\n",
        "* Vowels\n",
        " * 'vowel': Two-letter vowel identifier (e.g., 'iy', 'ih', etc.)\n",
        "* Formants\n",
        " * 'f1': Strongest formant (in Hz)\n",
        " * 'f2': Second strongest formant (in Hz)\n",
        "* Tongue Height\n",
        " * 'h1': close\n",
        " * 'h2': near-close or higher\n",
        " * 'h3': close-mid or higher\n",
        " * 'h4': mid or higher\n",
        " * 'h5': open-mid or higher\n",
        " * All are boolean (0,1)\n",
        " * **Note:** The above are inclusive of more open states. For example, 'ey' being 'close-mid' would have h2,h3 true and h1,h4,h5 false. This means you would need to combine (logical and,negation) multiple of the above features to determine a specific Tongue Height condition.\n",
        "* Tongue Depth\n",
        " * 'b1': back\n",
        " * 'b2': central or back\n",
        " * Also boolean\n",
        " * **Note:** You can see 'front' is missing and 'central' in combined with 'back'. Similar to above, you would need to combine the above features together to get specific Tongue Depth values. (For example, for 'central' you would need to have b2 be true but b1 be false.\n",
        "* Lip Shape\n",
        " * r: rounded\n",
        " * Again boolean, negate for 'unrounded'\n",
        "\n",
        "---\n",
        "\n",
        "First, let's read in the data.\n",
        "\n"
      ]
    },
    {
      "cell_type": "code",
      "metadata": {
        "id": "9YZyTz4sBrx6",
        "colab_type": "code",
        "colab": {
          "base_uri": "https://localhost:8080/",
          "height": 392
        },
        "outputId": "d2cf0d3b-0b55-4f29-b60e-06336b46dfd9"
      },
      "source": [
        "# first, read in the data and build a scatterplot showing the vowel formants\n",
        "import pandas as pd\n",
        "url='https://raw.githubusercontent.com/efosler/cse5522data/master/vowelfmts.csv'\n",
        "df=pd.read_csv(url)\n",
        "\n",
        "# This function will plot the vowels as a scatterplot with different colors\n",
        "# using the traditional F2 vs F1 inverted plot.  This puts high (close) vowels\n",
        "# at the top of the plot and low vowels (open) at the bottom.  Front vowels\n",
        "# are to the left; back vowels to the right.  Optionally can plot a boundary.\n",
        "\n",
        "def plotvowels(df,weights=None):\n",
        "  # this next bit converts the label into a colormap value between 0 and 1\n",
        "  vowels=df['vowel'].unique()\n",
        "  vmap={}\n",
        "  for i in range(vowels.shape[0]):\n",
        "    vmap[vowels[i]]=float(i)/float(vowels.shape[0]-1)\n",
        "  df['color']=df['vowel'].map(vmap)\n",
        "  # plot the scatterplot\n",
        "  plt.figure(num=1,figsize=(6,6))\n",
        "  plt.scatter(df['f2'],df['f1'],s=1,c=df['color'],cmap='gist_rainbow')\n",
        "  plt.xlabel('f2')\n",
        "  plt.ylabel('f1')\n",
        "  plt.gca().set_ylim([100,1000])\n",
        "  plt.gca().set_xlim([750,2500])\n",
        "  plt.gca().invert_xaxis()\n",
        "  plt.gca().invert_yaxis()\n",
        "  if weights is not None:\n",
        "    dmin=df['f2'].min()\n",
        "    dmax=df['f2'].max()\n",
        "    plt.plot(np.array([dmin,dmax]),\n",
        "             np.array([-(dmin*weights[0]+weights[2])/(weights[1]),\n",
        "                       -(dmax*weights[0]+weights[2])/(weights[1])]),\n",
        "             'b--'\n",
        "             )\n",
        "\n",
        "# Plot the vowel data.  Compare against the IPA chart online.      \n",
        "plotvowels(df)"
      ],
      "execution_count": 378,
      "outputs": [
        {
          "output_type": "display_data",
          "data": {
            "image/png": "[encoded data removed]",
            "text/plain": [
              "<Figure size 432x432 with 1 Axes>"
            ]
          },
          "metadata": {
            "tags": [],
            "needs_background": "light"
          }
        }
      ]
    },
    {
      "cell_type": "markdown",
      "metadata": {
        "id": "OKy9yHIA4fgW",
        "colab_type": "text"
      },
      "source": [
        "The chart above shows examples of vowels (iy, ih, ...) as colors, along with the formants (f1,f2) we will use to predict them.\n",
        "\n",
        "You will notice that the vowel classes aren't linearly separable.  The idea in this section will be to try to separate vowels by different types of vocal tract features (back/front/close/open), and use perceptrons to predict those features (h1-h5,b1,b2,r).\n",
        "\n",
        "**2.2** A bit of code to create training/test sets."
      ]
    },
    {
      "cell_type": "code",
      "metadata": {
        "id": "z55b8iWFBIFC",
        "colab_type": "code",
        "colab": {}
      },
      "source": [
        "from sklearn.model_selection import train_test_split\n",
        "train_data, test_data, train_targets, test_targets = train_test_split(df[['f1','f2']],df[['close','near-close+','close-mid+','mid+','open-mid+','back','central-or-back','rounded','vowel']])"
      ],
      "execution_count": 379,
      "outputs": []
    },
    {
      "cell_type": "markdown",
      "metadata": {
        "id": "SLtkJHnL4rb9",
        "colab_type": "text"
      },
      "source": [
        "**2.3** At this point, the project becomes a bit open-ended and exploratory.  What you should do is normalize F1 and F2 (perhaps it would be best to do that before the data splits, but that is your choice).  The main reason is that the bias term needs to be pretty high.\n",
        "\n",
        "Then try to predict each of the vocal tract features as targets (e.g. train_targets['central-or-back']) from the f2/f1 data.  See if you can get reasonable classifiers for the 8 vocal tract features (h1-h5,b1,b2,r). What is your accuracy for each?\n",
        "\n",
        "WARNING: The above will not be linearly separable, you will need to be careful about convergence.  See if you can figure out a reasonable place to stop training.\n",
        "\n"
      ]
    },
    {
      "cell_type": "code",
      "metadata": {
        "id": "11ojGXfaLhrP",
        "colab_type": "code",
        "colab": {}
      },
      "source": [
        "def accuracy_calc(ws, exs, targets):\n",
        "  err = exs.shape[0]\n",
        "  for i in range(exs.shape[0]):\n",
        "    # print(i)\n",
        "    # print(f'data:{exs[i]}')\n",
        "    # print(f'ws:{ws}')\n",
        "    # print(f'target: {targets[i]}')\n",
        "    # print(f'output:{output(ws, exs[i])}')\n",
        "    if targets[i] != output(ws, exs[i]): \n",
        "      err -= 1\n",
        "  return err / exs.shape[0]"
      ],
      "execution_count": 482,
      "outputs": []
    },
    {
      "cell_type": "code",
      "metadata": {
        "id": "o_dO_JvEDi9F",
        "colab_type": "code",
        "colab": {
          "base_uri": "https://localhost:8080/",
          "height": 973
        },
        "outputId": "2f8b7d26-73e3-480b-a3d5-38eddb55c8cd"
      },
      "source": [
        "# normalize training data\n",
        "td=np.array(train_data)\n",
        "f1_train = td[:,0]\n",
        "f2_train = td[:,1]\n",
        "td[:,0] = td[:,0] / sum(f1_train)\n",
        "td[:,1] = td[:,1] / sum(f2_train)\n",
        "tt=np.array(train_targets)\n",
        "# print(tt[:,0])\n",
        "\n",
        "# (Use your Part 1 to) predict one of the attributes from training data\n",
        "classifiers = np.zeros([8,3])\n",
        "avg_acc = 0\n",
        "#learningrate = 0.0001\n",
        "learningrate = 0.0005\n",
        "# repeat for all attributes\n",
        "for i in range(8):\n",
        "  print(f'Attribute {i}')\n",
        "  # if i > 4:\n",
        "  #   learningrate = 0.0005\n",
        "  classif = fitToConvergence(weights_init, td, tt[:,i], learningrate)\n",
        "  print(f'Classifier (weights):{classif}')\n",
        "  plotgraph(td,tt[:,0],classif)\n",
        "  # Report accuracy\n",
        "  acc = accuracy_calc(classif,td,tt[:,i])\n",
        "  avg_acc += acc\n",
        "  print(f'Accuracy: {acc}\\n')\n",
        "  classifiers[i] = classif\n",
        "print(f'Average accuracy across all 8 feature sets: {avg_acc / 8}')"
      ],
      "execution_count": 573,
      "outputs": [
        {
          "output_type": "stream",
          "text": [
            "Attribute 0\n",
            "iterations:2\n",
            "Classifier (weights):[-9.99822959e-01  1.00022610e+00  5.00000000e-04]\n",
            "Accuracy: 0.7453646477132262\n",
            "\n",
            "Attribute 1\n",
            "iterations:1\n",
            "Classifier (weights):[-9.99819080e-01  1.00024533e+00 -4.40619763e-16]\n",
            "Accuracy: 0.738772146683148\n",
            "\n",
            "Attribute 2\n",
            "iterations:1\n",
            "Classifier (weights):[-9.99769746e-01  1.00019889e+00 -4.40619763e-16]\n",
            "Accuracy: 0.6440049443757726\n",
            "\n",
            "Attribute 3\n",
            "iterations:2\n",
            "Classifier (weights):[-9.99767717e-01  1.00020009e+00 -4.40619763e-16]\n",
            "Accuracy: 0.6782035434693037\n",
            "\n",
            "Attribute 4\n",
            "iterations:0\n",
            "Classifier (weights):[-9.99792784e-01  1.00019811e+00 -5.00000000e-04]\n",
            "Accuracy: 0.9480840543881335\n",
            "\n",
            "Attribute 5\n",
            "iterations:3\n",
            "Classifier (weights):[-9.99603177e-01  9.99646325e-01 -5.00000000e-04]\n",
            "Accuracy: 0.5302843016069221\n",
            "\n",
            "Attribute 6\n",
            "iterations:1\n",
            "Classifier (weights):[-9.99719432e-01  9.99942263e-01 -4.40619763e-16]\n",
            "Accuracy: 0.2913061392665843\n",
            "\n",
            "Attribute 7\n",
            "iterations:1\n",
            "Classifier (weights):[-9.99708173e-01  9.99938291e-01 -5.00000000e-04]\n",
            "Accuracy: 0.5302843016069221\n",
            "\n",
            "Average accuracy across all 8 feature sets: 0.6382880098887516\n"
          ],
          "name": "stdout"
        },
        {
          "output_type": "display_data",
          "data": {
            "image/png": "[encoded data removed]",
            "text/plain": [
              "<Figure size 432x288 with 1 Axes>"
            ]
          },
          "metadata": {
            "tags": [],
            "needs_background": "light"
          }
        }
      ]
    },
    {
      "cell_type": "markdown",
      "metadata": {
        "id": "E_kF84XZmTba",
        "colab_type": "text"
      },
      "source": [
        "I found it very difficult to figure out when to stop training. The first 5 features seem to train well, however the lat 3 were more difficult."
      ]
    },
    {
      "cell_type": "markdown",
      "metadata": {
        "id": "-6iKRfH29ppt",
        "colab_type": "text"
      },
      "source": [
        "**2.4** Once you have classifiers see if you can predict the vowel category (iy, ih, etc.) based on the their output. (Remember, this means combining the output of the classifiers together to detect the proper Tongue Height, Tongue Depth and Lip Shape for each vowel.)  "
      ]
    },
    {
      "cell_type": "code",
      "metadata": {
        "id": "VnIPuHWT96GS",
        "colab_type": "code",
        "colab": {}
      },
      "source": [
        "#Take the classifiers and try to predict vowel class (\"and\" function)!"
      ],
      "execution_count": null,
      "outputs": []
    },
    {
      "cell_type": "markdown",
      "metadata": {
        "id": "5ropho7s6URu",
        "colab_type": "text"
      },
      "source": [
        "---\n",
        "---\n",
        "\n",
        "# **Part 3: PyTorch Neural Networks** (0 pts)\n",
        "\n",
        "This is a quick runthrough of PyTorch, and how to build a neural network.  The code below is a modified version of https://courses.cs.washington.edu/courses/cse446/18wi/sections/section8/XOR-Pytorch.html with some additional annotations to help you along.\n",
        "\n",
        "This part is read-and-run (hence why it is worth no points), but pay close attention as you will be using/modifying what you see here in Part 4.\n",
        "\n",
        "**Note:** If you are using Google Colab, you may want to change your runtime type to GPU/TPU (Runtime->Change runtime type->Hardware accelerator) to speed up computation with PyTorch.\n",
        "\n",
        "\n",
        "**3.1** First some library preliminaries."
      ]
    },
    {
      "cell_type": "code",
      "metadata": {
        "id": "GyIQ-0oOiU7F",
        "colab_type": "code",
        "colab": {}
      },
      "source": [
        "import torch\n",
        "from torch.autograd import Variable\n",
        "import torch.nn as nn\n",
        "import torch.nn.functional as F\n",
        "import torch.optim as optim\n",
        "import numpy as np\n",
        "import matplotlib.pyplot as plt\n",
        "%matplotlib inline\n",
        "torch.manual_seed(2)"
      ],
      "execution_count": null,
      "outputs": []
    },
    {
      "cell_type": "markdown",
      "metadata": {
        "id": "Zo7_euBB64as",
        "colab_type": "text"
      },
      "source": [
        "**3.2** Now set up the data into *tensors* (i.e. multidimensional arrays).  X is the data array, Y is the target."
      ]
    },
    {
      "cell_type": "code",
      "metadata": {
        "id": "OOrD5aDP62CX",
        "colab_type": "code",
        "colab": {}
      },
      "source": [
        "X = torch.Tensor([[0,0],[0,1], [1,0], [1,1]])\n",
        "Y = torch.Tensor([0,1,1,0]).view(-1,1)"
      ],
      "execution_count": null,
      "outputs": []
    },
    {
      "cell_type": "markdown",
      "metadata": {
        "id": "MpflPWlf7Nsj",
        "colab_type": "text"
      },
      "source": [
        "**3.3** Let's define a multi-layer perceptron with 2 layers.  Each layer will create a linear combination of the inputs, and feed to a sigmoid output.\n",
        "\n",
        "Note that the initializer (with the calls to nn.Linear) will create a set of parameters that are associated with the model."
      ]
    },
    {
      "cell_type": "code",
      "metadata": {
        "id": "fn7n4-VH7OQL",
        "colab_type": "code",
        "colab": {}
      },
      "source": [
        "class MLP2(nn.Module):\n",
        "    def __init__(self, input_dim = 2, hid_dim=2, output_dim=1):\n",
        "        # initialze the superclass\n",
        "        super(MLP2, self).__init__()\n",
        "        # this will create a linear layer with input_dim x hid_dim parameters\n",
        "        # in addition to a bias unit with hid_dim parameters\n",
        "        self.lin1 = nn.Linear(input_dim, hid_dim)\n",
        "        # same thing here except hid_dim x output_dim\n",
        "        self.lin2 = nn.Linear(hid_dim, output_dim)\n",
        "    \n",
        "    # this is where the meat of the action is\n",
        "    def forward(self, x):\n",
        "        x = self.lin1(x)  # linear combination of inputs\n",
        "        x = torch.sigmoid(x) # then through sigmoid - output of first layer\n",
        "        x = self.lin2(x) # linear combination of hidden units\n",
        "        x = torch.sigmoid(x) # then through sigmoid - net output\n",
        "        return x"
      ],
      "execution_count": null,
      "outputs": []
    },
    {
      "cell_type": "markdown",
      "metadata": {
        "id": "Usrqoiw48CcX",
        "colab_type": "text"
      },
      "source": [
        "**3.4** We also define a function to initialize weights of our model."
      ]
    },
    {
      "cell_type": "code",
      "metadata": {
        "id": "bJP5EfDS7-Hw",
        "colab_type": "code",
        "colab": {}
      },
      "source": [
        "def weights_init(model):\n",
        "    for m in model.modules():\n",
        "        if isinstance(m, nn.Linear):\n",
        "            # initialize the weight tensor, here we use a normal distribution\n",
        "            m.weight.data.normal_(0, 1)\n"
      ],
      "execution_count": null,
      "outputs": []
    },
    {
      "cell_type": "markdown",
      "metadata": {
        "id": "IhhgEm298OSk",
        "colab_type": "text"
      },
      "source": [
        "**3.5** Now create a model and initialize it.  Also define a loss function and the optimizer."
      ]
    },
    {
      "cell_type": "code",
      "metadata": {
        "id": "QD8pE8kb8MuO",
        "colab_type": "code",
        "colab": {}
      },
      "source": [
        "model = MLP2()\n",
        "weights_init(model)\n",
        "loss_func = nn.MSELoss()\n",
        "optimizer = optim.SGD(model.parameters(), lr=0.02, momentum=0.9)\n"
      ],
      "execution_count": null,
      "outputs": []
    },
    {
      "cell_type": "markdown",
      "metadata": {
        "id": "GPT4oaWy9LD-",
        "colab_type": "text"
      },
      "source": [
        "**3.6** Now we run the training."
      ]
    },
    {
      "cell_type": "code",
      "metadata": {
        "id": "jj3tKoee8nMH",
        "colab_type": "code",
        "colab": {}
      },
      "source": [
        "epochs = 2001\n",
        "steps = X.size(0)\n",
        "for i in range(epochs):\n",
        "    for j in range(steps):\n",
        "        data_point = np.random.randint(X.size(0))\n",
        "        x_var = Variable(X[data_point], requires_grad=False)\n",
        "        y_var = Variable(Y[data_point], requires_grad=False)\n",
        "     \n",
        "        optimizer.zero_grad()\n",
        "        y_hat = model(x_var)\n",
        "        loss = loss_func.forward(y_hat, y_var)\n",
        "        loss.backward()\n",
        "        optimizer.step()\n",
        "\n",
        "    if i % 500 == 0:\n",
        "        print(\"Epoch: {0}, Loss: {1}, \".format(i, loss.data.numpy()))\n"
      ],
      "execution_count": null,
      "outputs": []
    },
    {
      "cell_type": "markdown",
      "metadata": {
        "id": "sqFt7zng-cIO",
        "colab_type": "text"
      },
      "source": [
        "**3.7** This is a neat little bit of code that will print out the first layer's decision boundaries."
      ]
    },
    {
      "cell_type": "code",
      "metadata": {
        "id": "DX6bK_Z--TV9",
        "colab_type": "code",
        "colab": {}
      },
      "source": [
        "model_params = list(model.parameters())\n",
        "model_weights = model_params[0].data.numpy()\n",
        "model_bias = model_params[1].data.numpy()\n",
        "\n",
        "plt.scatter(X.numpy()[[0,-1], 0], X.numpy()[[0, -1], 1], s=50)\n",
        "plt.scatter(X.numpy()[[1,2], 0], X.numpy()[[1, 2], 1], c='red', s=50)\n",
        "\n",
        "x_1 = np.arange(-0.1, 1.1, 0.1)\n",
        "y_1 = ((x_1 * model_weights[0,0]) + model_bias[0]) / (-model_weights[0,1])\n",
        "plt.plot(x_1, y_1)\n",
        "\n",
        "x_2 = np.arange(-0.1, 1.1, 0.1)\n",
        "y_2 = ((x_2 * model_weights[1,0]) + model_bias[1]) / (-model_weights[1,1])\n",
        "plt.plot(x_2, y_2)\n",
        "plt.legend([\"neuron_1\", \"neuron_2\"], loc=8)\n",
        "plt.show()"
      ],
      "execution_count": null,
      "outputs": []
    },
    {
      "cell_type": "markdown",
      "metadata": {
        "id": "8WHZknJg-09E",
        "colab_type": "text"
      },
      "source": [
        "**3.8** Now take a look at the parameters that were learned.  Can you trace how the xor decision works for each of the datapoints?  \n",
        "\n",
        "The first tensor is the input-hidden weights, second is the bias-hidden weights, third is hidden-output, and last is bias-output."
      ]
    },
    {
      "cell_type": "code",
      "metadata": {
        "id": "MtJ_Y3kw-wzE",
        "colab_type": "code",
        "colab": {}
      },
      "source": [
        "model_params"
      ],
      "execution_count": null,
      "outputs": []
    },
    {
      "cell_type": "markdown",
      "metadata": {
        "id": "H1CUtRJr_8al",
        "colab_type": "text"
      },
      "source": [
        "---\n",
        "---\n",
        "\n",
        "# **Part 4: MLP classification of vowels (60 pts)**\n",
        "\n",
        "In this section we will combine together what you learned in Parts 2 and 3.\n",
        "\n",
        "Previously, in Part 2 we noted the vowel data was not linearly separable based solely on the formants, hence could not be solved with a single-layer percepton.\n",
        "\n",
        "We then proceeded to manually separate the data based on vocal tract features, then manually recombine the results to get vowel predictions.\n",
        "\n",
        "In this Part 4 we will take a different approach: We will instead use a *multi-layer perceptron* which should be capable of solving even non-linearly separable problems.\n",
        "\n",
        "This should allow us to predict vowel classes directly from formants, ignoring the vocal tract features completely.\n",
        "\n",
        "---\n",
        "\n",
        "**4.1** With the formant data from Part 2, use PyTorch to construct a 2-layer MLP with 100 hidden units, predicting the vowel class.\n",
        "\n",
        "Note: The traditional way to do this is to have a softmax output with a cross entropy loss.  Pytorch does this using the [torch.nn.CrossEntropyLoss](https://pytorch.org/docs/master/generated/torch.nn.CrossEntropyLoss.html) function, which expects as its input the linear layer (it builds the softmax function into the loss).\n",
        "\n",
        "You will need to convert vowel labels (iy, ih, etc.) to integer indices for output units.\n",
        " \n",
        "Report and discuss results on the test set.\n",
        "\n",
        "**Note:** Part of this task involves adapting what you learned in Part 3, as well as looking up documentation/examples for PyTorch to make the required modifications."
      ]
    },
    {
      "cell_type": "code",
      "metadata": {
        "id": "Q_gGYNTCDvaO",
        "colab_type": "code",
        "colab": {}
      },
      "source": [
        "# Your MLP code here"
      ],
      "execution_count": null,
      "outputs": []
    },
    {
      "cell_type": "markdown",
      "metadata": {
        "id": "eCi3ezvAEpGc",
        "colab_type": "text"
      },
      "source": [
        "**4.2** You may be disappointed in the accuracy you achieve in the previous step. But it turns out that multi-class classification has results that are a bit tricky to interpret (compared to binary classification).\n",
        "\n",
        "Let's turn your results into binary classification and re-evaluate.\n",
        "\n",
        "Instead of considering all vowel classes at once, let's take one, say 'ih'. Convert your previous predictions to binary by saying they are true when 'ih' is the most likely prediction and false if any other vowel class is more likely.\n",
        "\n",
        "Recalculate the accuracy based on this. Are the results more to your liking?\n",
        "\n",
        "Repeat the above for each vowel class.\n",
        "\n",
        "Can you explain why the results seem better when they are put in this form?"
      ]
    },
    {
      "cell_type": "markdown",
      "metadata": {
        "id": "Q7zoHaQrGgX0",
        "colab_type": "text"
      },
      "source": [
        "**4.3** Develop an experiment with 2 (new) different variations of the model (e.g., different widths, numbers of layers, activation functions, etc).   Create a short writeup explaining (1) why you chose the variations, and (2) how it affected performance on the test set."
      ]
    }
  ]
}